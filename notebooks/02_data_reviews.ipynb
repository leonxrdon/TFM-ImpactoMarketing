{
  "cells": [
    {
      "cell_type": "markdown",
      "metadata": {},
      "source": [
        "# Análisis de Sentimientos en Reviews\n",
        "\n",
        "En este análisis, se recopilaron reseñas de hoteles  con el objetivo de evaluar el sentimiento expresado por los usuarios. Primero, se realiza una limpieza exhaustiva de los textos para eliminar palabras o expresiones que puedan sesgar los resultados. Posteriormente, se utiliza el servicio de Azure para analizar el sentimiento de cada reseña, clasificándolas en categorías como positivo, negativo, mixto o neutral. Este proceso permite obtener una visión más precisa y objetiva de la percepción de los clientes sobre los hoteles evaluados."
      ]
    },
    {
      "cell_type": "markdown",
      "metadata": {
        "id": "agPQJqvGANrA"
      },
      "source": [
        "Cargar el Dataset de Reviews en español."
      ]
    },
    {
      "cell_type": "code",
      "execution_count": null,
      "metadata": {},
      "outputs": [],
      "source": [
        "!pip install pandas "
      ]
    },
    {
      "cell_type": "code",
      "execution_count": 23,
      "metadata": {
        "colab": {
          "base_uri": "https://localhost:8080/",
          "height": 206
        },
        "id": "wP7iFbYs_7pj",
        "outputId": "23c85c88-7751-4b4d-b079-21d24caf16d8"
      },
      "outputs": [
        {
          "data": {
            "text/html": [
              "<div>\n",
              "<style scoped>\n",
              "    .dataframe tbody tr th:only-of-type {\n",
              "        vertical-align: middle;\n",
              "    }\n",
              "\n",
              "    .dataframe tbody tr th {\n",
              "        vertical-align: top;\n",
              "    }\n",
              "\n",
              "    .dataframe thead th {\n",
              "        text-align: right;\n",
              "    }\n",
              "</style>\n",
              "<table border=\"1\" class=\"dataframe\">\n",
              "  <thead>\n",
              "    <tr style=\"text-align: right;\">\n",
              "      <th></th>\n",
              "      <th>reviews.date</th>\n",
              "      <th>reviews.title</th>\n",
              "      <th>reviews.text</th>\n",
              "      <th>reviews.rating</th>\n",
              "    </tr>\n",
              "  </thead>\n",
              "  <tbody>\n",
              "    <tr>\n",
              "      <th>0</th>\n",
              "      <td>2013-09-22T00:00:00Z</td>\n",
              "      <td>Good location away from the crouds</td>\n",
              "      <td>Pleasant 10 min walk along the sea front to th...</td>\n",
              "      <td>4.0</td>\n",
              "    </tr>\n",
              "    <tr>\n",
              "      <th>1</th>\n",
              "      <td>2015-04-03T00:00:00Z</td>\n",
              "      <td>Great hotel with Jacuzzi bath!</td>\n",
              "      <td>Really lovely hotel. Stayed on the very top fl...</td>\n",
              "      <td>5.0</td>\n",
              "    </tr>\n",
              "    <tr>\n",
              "      <th>2</th>\n",
              "      <td>2014-05-13T00:00:00Z</td>\n",
              "      <td>Lugnt l��ge</td>\n",
              "      <td>Ett mycket bra hotell. Det som drog ner betyge...</td>\n",
              "      <td>5.0</td>\n",
              "    </tr>\n",
              "    <tr>\n",
              "      <th>3</th>\n",
              "      <td>2013-10-27T00:00:00Z</td>\n",
              "      <td>Good location on the Lido.</td>\n",
              "      <td>We stayed here for four nights in October. The...</td>\n",
              "      <td>5.0</td>\n",
              "    </tr>\n",
              "    <tr>\n",
              "      <th>4</th>\n",
              "      <td>2015-03-05T00:00:00Z</td>\n",
              "      <td>������ ���������������</td>\n",
              "      <td>We stayed here for four nights in October. The...</td>\n",
              "      <td>5.0</td>\n",
              "    </tr>\n",
              "  </tbody>\n",
              "</table>\n",
              "</div>"
            ],
            "text/plain": [
              "           reviews.date                       reviews.title  \\\n",
              "0  2013-09-22T00:00:00Z  Good location away from the crouds   \n",
              "1  2015-04-03T00:00:00Z      Great hotel with Jacuzzi bath!   \n",
              "2  2014-05-13T00:00:00Z                         Lugnt l��ge   \n",
              "3  2013-10-27T00:00:00Z          Good location on the Lido.   \n",
              "4  2015-03-05T00:00:00Z              ������ ���������������   \n",
              "\n",
              "                                        reviews.text  reviews.rating  \n",
              "0  Pleasant 10 min walk along the sea front to th...             4.0  \n",
              "1  Really lovely hotel. Stayed on the very top fl...             5.0  \n",
              "2  Ett mycket bra hotell. Det som drog ner betyge...             5.0  \n",
              "3  We stayed here for four nights in October. The...             5.0  \n",
              "4  We stayed here for four nights in October. The...             5.0  "
            ]
          },
          "execution_count": 23,
          "metadata": {},
          "output_type": "execute_result"
        }
      ],
      "source": [
        "import pandas as pd\n",
        "df = pd.read_csv('../data/raw/reviews_hotel.csv')\n",
        "df.head()"
      ]
    },
    {
      "cell_type": "markdown",
      "metadata": {},
      "source": [
        "## Limpieza da datos de Reseñas\n",
        "Para nuestro ejemplo necesitamos unicamente las reseñas que en nuestro dataset es `reviews.text`."
      ]
    },
    {
      "cell_type": "code",
      "execution_count": 24,
      "metadata": {},
      "outputs": [
        {
          "data": {
            "text/html": [
              "<div>\n",
              "<style scoped>\n",
              "    .dataframe tbody tr th:only-of-type {\n",
              "        vertical-align: middle;\n",
              "    }\n",
              "\n",
              "    .dataframe tbody tr th {\n",
              "        vertical-align: top;\n",
              "    }\n",
              "\n",
              "    .dataframe thead th {\n",
              "        text-align: right;\n",
              "    }\n",
              "</style>\n",
              "<table border=\"1\" class=\"dataframe\">\n",
              "  <thead>\n",
              "    <tr style=\"text-align: right;\">\n",
              "      <th></th>\n",
              "      <th>review</th>\n",
              "    </tr>\n",
              "  </thead>\n",
              "  <tbody>\n",
              "    <tr>\n",
              "      <th>0</th>\n",
              "      <td>pleasant 10 min walk along the sea front to th...</td>\n",
              "    </tr>\n",
              "    <tr>\n",
              "      <th>1</th>\n",
              "      <td>really lovely hotel stayed on the very top flo...</td>\n",
              "    </tr>\n",
              "    <tr>\n",
              "      <th>2</th>\n",
              "      <td>ett mycket bra hotell det som drog ner betyget...</td>\n",
              "    </tr>\n",
              "    <tr>\n",
              "      <th>3</th>\n",
              "      <td>we stayed here for four nights in october the ...</td>\n",
              "    </tr>\n",
              "    <tr>\n",
              "      <th>5</th>\n",
              "      <td>we loved staying on the island of lido you nee...</td>\n",
              "    </tr>\n",
              "  </tbody>\n",
              "</table>\n",
              "</div>"
            ],
            "text/plain": [
              "                                              review\n",
              "0  pleasant 10 min walk along the sea front to th...\n",
              "1  really lovely hotel stayed on the very top flo...\n",
              "2  ett mycket bra hotell det som drog ner betyget...\n",
              "3  we stayed here for four nights in october the ...\n",
              "5  we loved staying on the island of lido you nee..."
            ]
          },
          "execution_count": 24,
          "metadata": {},
          "output_type": "execute_result"
        }
      ],
      "source": [
        "# Elinas columnas innecesarias\n",
        "df = df.drop(columns=['reviews.date', 'reviews.title', 'reviews.rating'])\n",
        "\n",
        "# Cambiamos el nombre de las columnas\n",
        "df = df.rename(columns={\n",
        "    'reviews.text': 'review',\n",
        "})\n",
        "\n",
        "# Limpiamos los espacios en blanco y los caracteres especiales\n",
        "df['review'] = df['review'].str.strip()\n",
        "df['review'] = df['review'].str.replace(r'[^a-zA-Z0-9\\s]', '', regex=True)\n",
        "df['review'] = df['review'].str.replace(r'\\s+', ' ', regex=True)\n",
        "\n",
        "# Convertimos a minúsculas\n",
        "df['review'] = df['review'].str.lower()\n",
        "\n",
        "# Eliminamos filas vacías\n",
        "df = df[df['review'] != '']\n",
        "\n",
        "# Eliminamos duplicados\n",
        "df = df.drop_duplicates(subset=['review'])\n",
        "\n",
        "# Eliminamos filas con valores nulos\n",
        "df = df.dropna(subset=['review'])\n",
        "\n",
        "# Guardamos el dataframe limpio\n",
        "df.to_csv('../data/processed/reviews_hotel_clean.csv', index=False)\n",
        "\n",
        "# Mostramos las primeras filas del dataframe limpio\n",
        "df.head()"
      ]
    },
    {
      "cell_type": "markdown",
      "metadata": {
        "id": "rCAeno2qEvbm"
      },
      "source": [
        "## Análisis de Sentimientos\n",
        "Ahora con el dataset limpio veremos que sentimiento tiene cada una."
      ]
    },
    {
      "cell_type": "code",
      "execution_count": null,
      "metadata": {
        "colab": {
          "base_uri": "https://localhost:8080/"
        },
        "collapsed": true,
        "id": "khPlPlrIAwIX",
        "outputId": "1f3d06da-1d71-4243-ac14-37dc46a02387"
      },
      "outputs": [],
      "source": [
        "!pip install azure-ai-textanalytics==5.3.0"
      ]
    },
    {
      "cell_type": "code",
      "execution_count": null,
      "metadata": {
        "colab": {
          "base_uri": "https://localhost:8080/"
        },
        "id": "QBvzlqUnAbo3",
        "outputId": "7e57225b-4987-42a1-d145-aa455505020d"
      },
      "outputs": [
        {
          "name": "stdout",
          "output_type": "stream",
          "text": [
            "                                                text sentiment\n",
            "0  pleasant 10 min walk along the sea front to th...  positive\n",
            "1  really lovely hotel stayed on the very top flo...  positive\n",
            "2  ett mycket bra hotell det som drog ner betyget...  positive\n",
            "3  we stayed here for four nights in october the ...  positive\n",
            "4  we loved staying on the island of lido you nee...  positive\n"
          ]
        }
      ],
      "source": [
        "# Analizar los sentimientos con Azure\n",
        "from azure.ai.textanalytics import TextAnalyticsClient\n",
        "from azure.core.credentials import AzureKeyCredential\n",
        "\n",
        "KEY = \"\"\n",
        "ENDPOINT = \"\"\n",
        "\n",
        "\n",
        "# Autenticación del cliente\n",
        "credential = AzureKeyCredential(KEY)\n",
        "client = TextAnalyticsClient(endpoint=ENDPOINT, credential=credential)\n",
        "\n",
        "text = \"review\"\n",
        "\n",
        "# Convertir a lista\n",
        "documentos = df[text].dropna().astype(str).tolist()\n",
        "\n",
        "# Azure permite máx. 10 documentos por request, así que lo haremos por lotes\n",
        "def analizar_sentimientos_por_lotes(textos, lote=10):\n",
        "    resultados = []\n",
        "\n",
        "    for i in range(0, len(textos), lote):\n",
        "        batch = textos[i:i+lote]\n",
        "        response = client.analyze_sentiment(documents=batch)\n",
        "\n",
        "        for idx, doc in enumerate(response):\n",
        "            if not doc.is_error:\n",
        "                resultados.append({\n",
        "                    \"text\": batch[idx],\n",
        "                    \"sentiment\": doc.sentiment,\n",
        "                })\n",
        "            else:\n",
        "                resultados.append({\n",
        "                    \"text\": batch[idx],\n",
        "                    \"sentiment\": \"error\",\n",
        "                })\n",
        "    return resultados\n",
        "\n",
        "# Ejecutar análisis\n",
        "resultados = analizar_sentimientos_por_lotes(documentos)\n",
        "\n",
        "# Crear DataFrame con los resultados\n",
        "df_resultados = pd.DataFrame(resultados)\n",
        "\n",
        "# Mostrar los primeros resultados\n",
        "print(df_resultados.head())\n",
        "\n",
        "# Guardamos los resultados\n",
        "df_resultados.to_csv('../data/processed/reviews_hotel_sentiment.csv', index=False)"
      ]
    },
    {
      "cell_type": "code",
      "execution_count": null,
      "metadata": {},
      "outputs": [],
      "source": [
        "!pip install matplotlib seaborn"
      ]
    },
    {
      "cell_type": "code",
      "execution_count": 33,
      "metadata": {
        "colab": {
          "base_uri": "https://localhost:8080/",
          "height": 677
        },
        "id": "KqDHbZN0L4a1",
        "outputId": "8d12b95d-6d3a-447d-98ce-8590e262a455"
      },
      "outputs": [
        {
          "name": "stderr",
          "output_type": "stream",
          "text": [
            "C:\\Users\\12400F live\\AppData\\Local\\Temp\\ipykernel_20164\\4090986831.py:11: FutureWarning: \n",
            "\n",
            "Passing `palette` without assigning `hue` is deprecated and will be removed in v0.14.0. Assign the `x` variable to `hue` and set `legend=False` for the same effect.\n",
            "\n",
            "  sns.barplot(x=sentiment_counts.index, y=sentiment_counts.values, palette='viridis')\n"
          ]
        },
        {
          "data": {
            "image/png": "[encoded data removed]",
            "text/plain": [
              "<Figure size 800x600 with 1 Axes>"
            ]
          },
          "metadata": {},
          "output_type": "display_data"
        }
      ],
      "source": [
        "import pandas as pd\n",
        "import matplotlib.pyplot as plt\n",
        "import seaborn as sns\n",
        "\n",
        "# grafica para ver el porcentaje de positive, negative, mixed, neutral\n",
        "# Contar la cantidad de cada sentimiento\n",
        "sentiment_counts = df_resultados['sentiment'].value_counts()\n",
        "\n",
        "# Configurar la gráfica\n",
        "plt.figure(figsize=(8, 6))\n",
        "sns.barplot(x=sentiment_counts.index, y=sentiment_counts.values, palette='viridis')\n",
        "\n",
        "# Títulos y etiquetas\n",
        "plt.title('Distribución de Sentimientos', fontsize=16)\n",
        "plt.xlabel('Sentimiento', fontsize=12)\n",
        "plt.ylabel('Cantidad', fontsize=12)\n",
        "\n",
        "# Mostrar la gráfica\n",
        "plt.show()"
      ]
    }
  ],
  "metadata": {
    "colab": {
      "provenance": []
    },
    "kernelspec": {
      "display_name": ".venv",
      "language": "python",
      "name": "python3"
    },
    "language_info": {
      "codemirror_mode": {
        "name": "ipython",
        "version": 3
      },
      "file_extension": ".py",
      "mimetype": "text/x-python",
      "name": "python",
      "nbconvert_exporter": "python",
      "pygments_lexer": "ipython3",
      "version": "3.9.13"
    }
  },
  "nbformat": 4,
  "nbformat_minor": 0
}
